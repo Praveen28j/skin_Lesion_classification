{
 "cells": [
  {
   "cell_type": "markdown",
   "id": "e81dd4cb",
   "metadata": {},
   "source": [
    "# Data Preprocessing"
   ]
  },
  {
   "cell_type": "code",
   "execution_count": 12,
   "id": "8aa21283",
   "metadata": {},
   "outputs": [],
   "source": [
    "#import the required Libraries\n",
    "\n",
    "import pandas as pd\n",
    "import numpy as np\n",
    "from skimage import io\n",
    "from skimage.color import rgb2gray\n",
    "from skimage.filters import sobel\n",
    "from sklearn.preprocessing import LabelEncoder\n",
    "from sklearn.model_selection import train_test_split\n",
    "from sklearn.feature_selection import SelectKBest, chi2\n",
    "from sklearn.utils import resample\n",
    "import matplotlib.pyplot as plt\n",
    "import seaborn as sns"
   ]
  },
  {
   "cell_type": "code",
   "execution_count": 2,
   "id": "f9eb76ce",
   "metadata": {},
   "outputs": [],
   "source": [
    "#Links to the image dataset and the metadata csv\n",
    "\n",
    "img_link ='dataverse_files/HAM10000_images/'\n",
    "csv_link = 'dataverse_files/HAM10000_metadata.csv'"
   ]
  },
  {
   "cell_type": "code",
   "execution_count": 3,
   "id": "be660663",
   "metadata": {},
   "outputs": [],
   "source": [
    "metadata = pd.read_csv(csv_link)\n"
   ]
  },
  {
   "cell_type": "code",
   "execution_count": 4,
   "id": "2e754ffc",
   "metadata": {},
   "outputs": [],
   "source": [
    "#mapping data and images\n",
    "label_enc = LabelEncoder()\n",
    "metadata['target'] = label_enc.fit_transform(metadata['dx'])\n",
    "\n",
    "#split train and test data to 80:20 ratio\n",
    "X_train, X_test, y_train, y_test = train_test_split(metadata['image_id'], metadata['target'], test_size=0.2, random_state=42)\n"
   ]
  },
  {
   "cell_type": "code",
   "execution_count": 5,
   "id": "7095c382",
   "metadata": {},
   "outputs": [],
   "source": [
    "# minority classes unsampled to balance the classes in dataset\n",
    "train_data = pd.DataFrame({'image_id': X_train, 'target': y_train})\n",
    "majority_class = train_data['target'].value_counts().idxmax()\n",
    "minority_classes = train_data['target'].value_counts().drop(majority_class).index\n",
    "for minority_class in minority_classes:\n",
    "    minority_data = train_data[train_data['target'] == minority_class]\n",
    "    minority_upsampled = resample(minority_data, replace=True, n_samples=majority_class, random_state=42)\n",
    "    train_data = pd.concat([train_data, minority_upsampled])"
   ]
  },
  {
   "cell_type": "code",
   "execution_count": 6,
   "id": "c0942f20",
   "metadata": {},
   "outputs": [],
   "source": [
    "X_train = train_data['image_id']\n",
    "y_train = train_data['target']\n",
    "X_test = X_test.reset_index(drop=True)\n",
    "y_test = y_test.reset_index(drop=True)"
   ]
  },
  {
   "cell_type": "code",
   "execution_count": 8,
   "id": "acba523d",
   "metadata": {},
   "outputs": [],
   "source": [
    "#feature extraction for test and train data\n",
    "def feature_extract(img_path):\n",
    "    img = io.imread(img_link + img_path)\n",
    "    gray_img = rgb2gray(img)\n",
    "    edges = sobel(gray_img)\n",
    "    hist = np.histogram(gray_img, bins=10, range=(0, 1))[0]\n",
    "    return np.concatenate([hist, edges.flatten()])\n",
    "\n",
    "X_train = np.array([feature_extract(img_id + '.jpg') for img_id in X_train])\n",
    "X_test = np.array([feature_extract(img_id + '.jpg') for img_id in X_test])"
   ]
  },
  {
   "cell_type": "code",
   "execution_count": 9,
   "id": "ac6802d8",
   "metadata": {},
   "outputs": [],
   "source": [
    "#100 most relevant features are selected\n",
    "selector = SelectKBest(chi2, k=100)\n",
    "X_train = selector.fit_transform(X_train, y_train)\n",
    "X_test = selector.transform(X_test)"
   ]
  },
  {
   "cell_type": "code",
   "execution_count": 10,
   "id": "aed66b35",
   "metadata": {},
   "outputs": [],
   "source": [
    "#save the final extracted features to be reused in other code\n",
    "np.save('X_train.npy', X_train)\n",
    "np.save('y_train.npy', y_train)\n",
    "np.save('X_test.npy', X_test)\n",
    "np.save('y_test.npy', y_test)"
   ]
  },
  {
   "cell_type": "code",
   "execution_count": null,
   "id": "04d85ce5",
   "metadata": {},
   "outputs": [],
   "source": []
  }
 ],
 "metadata": {
  "kernelspec": {
   "display_name": "Python 3 (ipykernel)",
   "language": "python",
   "name": "python3"
  },
  "language_info": {
   "codemirror_mode": {
    "name": "ipython",
    "version": 3
   },
   "file_extension": ".py",
   "mimetype": "text/x-python",
   "name": "python",
   "nbconvert_exporter": "python",
   "pygments_lexer": "ipython3",
   "version": "3.9.13"
  }
 },
 "nbformat": 4,
 "nbformat_minor": 5
}
